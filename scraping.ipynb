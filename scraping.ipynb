{
 "cells": [
  {
   "cell_type": "code",
   "execution_count": 1,
   "id": "e9588b3c-a949-4440-87a2-91c1f99bb3d8",
   "metadata": {},
   "outputs": [
    {
     "data": {
      "text/plain": [
       "'\\nFootball Match Scraper - Web Scraping Script\\n----------------------------------------------\\nThis script scrapes football match data from YallaKora.com based on a user-provided date.\\nIt extracts championship name, teams, match result, and match time, then saves them to a CSV file.\\n'"
      ]
     },
     "execution_count": 1,
     "metadata": {},
     "output_type": "execute_result"
    }
   ],
   "source": [
    "# football_match_scraper.py\n",
    "\n",
    "\"\"\"\n",
    "Football Match Scraper - Web Scraping Script\n",
    "----------------------------------------------\n",
    "This script scrapes football match data from YallaKora.com based on a user-provided date.\n",
    "It extracts championship name, teams, match result, and match time, then saves them to a CSV file.\n",
    "\"\"\""
   ]
  },
  {
   "cell_type": "code",
   "execution_count": 2,
   "id": "119e2dd7-4fe5-4640-90c3-d23adc8fb366",
   "metadata": {},
   "outputs": [],
   "source": [
    "#import required libraries:\n",
    "import requests\n",
    "from bs4 import BeautifulSoup\n",
    "import csv\n",
    "from datetime import datetime"
   ]
  },
  {
   "cell_type": "code",
   "execution_count": 5,
   "id": "51df6829-6720-4006-b3e3-e4cffdc17393",
   "metadata": {},
   "outputs": [
    {
     "name": "stdin",
     "output_type": "stream",
     "text": [
      "Input the date of the match in the following format 'MM/DD/YYYY'\n",
      "Ex: 6/20/2025:  2020\n"
     ]
    },
    {
     "name": "stdout",
     "output_type": "stream",
     "text": [
      "Invalid date format. Please follow MM/DD/YYYY format.\n"
     ]
    },
    {
     "name": "stdin",
     "output_type": "stream",
     "text": [
      "Input the date of the match in the following format 'MM/DD/YYYY'\n",
      "Ex: 6/20/2025:  20/20/2025\n"
     ]
    },
    {
     "name": "stdout",
     "output_type": "stream",
     "text": [
      "Invalid date format. Please follow MM/DD/YYYY format.\n"
     ]
    },
    {
     "name": "stdin",
     "output_type": "stream",
     "text": [
      "Input the date of the match in the following format 'MM/DD/YYYY'\n",
      "Ex: 6/20/2025:  6/12/2025\n"
     ]
    }
   ],
   "source": [
    "# Validate user input for date format\n",
    "while True:\n",
    "    date = input(\"Input the date of the match in the following format 'MM/DD/YYYY'\\nEx: 6/20/2025: \")\n",
    "    try:\n",
    "        parsed_date = datetime.strptime(date, \"%m/%d/%Y\")\n",
    "        break\n",
    "    except ValueError:\n",
    "        print(\"Invalid date format. Please follow MM/DD/YYYY format.\")\n",
    "\n",
    "# Prepare URL for scraping (Windows-safe)\n",
    "formatted_date = f\"{parsed_date.month}/{parsed_date.day}/{parsed_date.year}\"\n",
    "url = f\"https://www.yallakora.com/match-center?date={formatted_date}#days\"\n",
    "\n",
    "page=requests.get(f\"https://www.yallakora.com/match-center?date={date}#days\")"
   ]
  },
  {
   "cell_type": "code",
   "execution_count": 6,
   "id": "d6c4c3ff-25f6-43c2-aa38-cd2b69ef41e4",
   "metadata": {},
   "outputs": [
    {
     "name": "stdout",
     "output_type": "stream",
     "text": [
      "number of matches on that day:  2\n",
      " \n",
      "Match Number 1\n",
      "team A:  الإسماعيلي\n",
      "team B:  إنبي\n",
      "Match Result: الإسماعيلي 2-0 إنبي\n",
      "Match Time: 17:00\n",
      " \n",
      "Match Number 2\n",
      "team A:  سيراميكا كليوباترا\n",
      "team B:  البنك الاهلي\n",
      "Match Result: سيراميكا كليوباترا 2-0 البنك الاهلي\n",
      "Match Time: 20:30\n",
      " \n",
      "[{'Champion Title': 'كأس رابطة الأندية', 'Team A': 'الإسماعيلي', 'Team B': 'إنبي', 'Match Result': 'الإسماعيلي 2-0 إنبي', 'Match Time': '17:00'}, {'Champion Title': 'كأس رابطة الأندية', 'Team A': 'سيراميكا كليوباترا', 'Team B': 'البنك الاهلي', 'Match Result': 'سيراميكا كليوباترا 2-0 البنك الاهلي', 'Match Time': '20:30'}]\n",
      "file created\n"
     ]
    }
   ],
   "source": [
    "# Define the main function that takes 'page' as input (from requests.get or similar)\n",
    "def main(page):\n",
    "    # Extract HTML content from the response\n",
    "    src = page.content\n",
    "    \n",
    "    # Parse the HTML using BeautifulSoup with lxml parser\n",
    "    soup = BeautifulSoup(src, \"lxml\")\n",
    "    \n",
    "    # Create an empty list to store match details for all matches\n",
    "    match_details = []\n",
    "    \n",
    "    # Find all the championships containers (each match card represents a championship)\n",
    "    championships = soup.find_all(\"div\", {\"class\": \"matchCard\"})\n",
    "    \n",
    "    # Define an inner function to extract information for each championship\n",
    "    def getmatchinfo(championships):\n",
    "        all_matches = []  # Will store all matches from all championships\n",
    "        \n",
    "        # Loop over each championship card\n",
    "        for championship in championships:\n",
    "            # Extract the name/title of the championship\n",
    "            champion_title = championship.find(\"h2\").text.strip()\n",
    "            \n",
    "            # Extract all the matches inside this championship\n",
    "            matches = championship.contents[3].find_all(\"div\", class_=\"item finish liItem\")\n",
    "            all_matches.extend(matches)  # Add these matches to the master list\n",
    "            \n",
    "            numberof_matches = len(all_matches)\n",
    "            print(\"number of matches on that day: \", numberof_matches)\n",
    "            print(\" \")\n",
    "            \n",
    "            # Loop over all extracted matches\n",
    "            for i in range(numberof_matches):\n",
    "                print(f\"Match Number {i+1}\")\n",
    "                \n",
    "                # Extract team A name\n",
    "                teamA = all_matches[i].find(\"div\", {\"class\": \"teams teamA\"}).text.strip()\n",
    "                print(\"team A: \", teamA)\n",
    "                \n",
    "                # Extract team B name\n",
    "                teamB = all_matches[i].find(\"div\", {\"class\": \"teams teamB\"}).text.strip()\n",
    "                print(\"team B: \", teamB)\n",
    "                \n",
    "                # Extract match result (scores for both teams)\n",
    "                match_result = all_matches[i].find(\"div\", {\"class\": \"MResult\"}).find_all(\"span\", {\"class\": \"score\"})\n",
    "                \n",
    "                # Build score string like: \"TeamA 1-2 TeamB\"\n",
    "                score = f\"{teamA} {match_result[0].text.strip()}-{match_result[1].text.strip()} {teamB}\"\n",
    "                print(f\"Match Result: {score}\")\n",
    "                \n",
    "                # Extract match time\n",
    "                match_time = all_matches[i].find(\"span\", {\"class\": \"time\"}).text.strip()\n",
    "                print(f\"Match Time: {match_time}\")\n",
    "                print(\" \")\n",
    "                \n",
    "                # Add this match data as a dictionary to match_details list\n",
    "                match_details.append({\n",
    "                    \"Champion Title\": champion_title,\n",
    "                    \"Team A\": teamA,\n",
    "                    \"Team B\": teamB,\n",
    "                    \"Match Result\": score,\n",
    "                    \"Match Time\": match_time\n",
    "                })\n",
    "\n",
    "    getmatchinfo(championships)\n",
    "    \n",
    "    # Print the full extracted match details (for debugging)\n",
    "    print(match_details)\n",
    "    \n",
    "    # Check if any matches were found before writing the CSV\n",
    "    if match_details:\n",
    "        # Extract column names from first match dictionary\n",
    "        keys = match_details[0].keys()\n",
    "        \n",
    "        # Write match details into CSV file\n",
    "        with open(\"F:\\mycareerprojects\\match_details.csv\", \"w\", newline='', encoding='utf-8-sig') as outputFile:\n",
    "            dict_writer = csv.DictWriter(outputFile, keys)  # Create CSV writer object\n",
    "            dict_writer.writeheader()  # Write CSV column headers\n",
    "            dict_writer.writerows(match_details)  # Write all match rows into file\n",
    "            print(\"file created\")\n",
    "    else:\n",
    "        # Inform user if no matches found\n",
    "        print(\"No matches found for the selected date or maybe you entered date in a wrong format. Make sure the date format like the following ex:6/20/2025\")\n",
    "\n",
    "\n",
    "# Finally, call the main function and pass 'page' object to it\n",
    "main(page)\n"
   ]
  }
 ],
 "metadata": {
  "kernelspec": {
   "display_name": "Python 3 (ipykernel)",
   "language": "python",
   "name": "python3"
  },
  "language_info": {
   "codemirror_mode": {
    "name": "ipython",
    "version": 3
   },
   "file_extension": ".py",
   "mimetype": "text/x-python",
   "name": "python",
   "nbconvert_exporter": "python",
   "pygments_lexer": "ipython3",
   "version": "3.11.7"
  }
 },
 "nbformat": 4,
 "nbformat_minor": 5
}
